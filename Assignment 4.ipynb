{
 "cells": [
  {
   "cell_type": "markdown",
   "id": "6289e74a",
   "metadata": {},
   "source": [
    "# Assignment 4th"
   ]
  },
  {
   "cell_type": "markdown",
   "id": "578e7183-8ded-4d73-81f8-7ddbf3c64229",
   "metadata": {},
   "source": [
    "Q1. What exactly is []?"
   ]
  },
  {
   "cell_type": "raw",
   "id": "0a729a1d-30bc-4afd-8af8-42d5ac31c868",
   "metadata": {},
   "source": [
    "Ans. :- This is the empty list value ."
   ]
  },
  {
   "cell_type": "markdown",
   "id": "bd604074-82f5-4f93-9572-63e5ce0cc9d0",
   "metadata": {},
   "source": [
    "Q2. In a list of values stored in a variable called spam, how would you assign the value 'hello' as the third value? (Assume [2, 4, 6, 8, 10] are in spam.)"
   ]
  },
  {
   "cell_type": "code",
   "execution_count": 1,
   "id": "7256cff3-381f-47e3-85df-d2b50a244d3f",
   "metadata": {},
   "outputs": [
    {
     "data": {
      "text/plain": [
       "[2, 4, 'hello', 8, 10]"
      ]
     },
     "execution_count": 1,
     "metadata": {},
     "output_type": "execute_result"
    }
   ],
   "source": [
    "spam = [2 , 4 , 6 , 8 , 10]\n",
    "spam[2] = \"hello\"\n",
    "spam"
   ]
  },
  {
   "cell_type": "markdown",
   "id": "28e11fdb-359f-44a7-86a7-485b5fbcdc53",
   "metadata": {},
   "source": [
    "Let's pretend the spam includes the list ['a', 'b', 'c', 'd'] for the next three queries."
   ]
  },
  {
   "cell_type": "markdown",
   "id": "34ed2d13-b0fa-4861-9602-b266349148c8",
   "metadata": {},
   "source": [
    "Q3. What is the value of spam[int(int('3' * 2) / 11)]?"
   ]
  },
  {
   "cell_type": "code",
   "execution_count": 2,
   "id": "73106499-c362-4d37-b051-bce01fb69b11",
   "metadata": {},
   "outputs": [
    {
     "data": {
      "text/plain": [
       "'d'"
      ]
     },
     "execution_count": 2,
     "metadata": {},
     "output_type": "execute_result"
    }
   ],
   "source": [
    "spam = ['a', 'b', 'c', 'd']\n",
    "spam[int(int('3'*2) / 11)]"
   ]
  },
  {
   "cell_type": "markdown",
   "id": "88576b69-e5a6-4467-94d7-f37603f84023",
   "metadata": {},
   "source": [
    "Q4. What is the value of spam[-1]?"
   ]
  },
  {
   "cell_type": "code",
   "execution_count": 3,
   "id": "39187132-f74c-4aba-abda-f904f9adb473",
   "metadata": {},
   "outputs": [
    {
     "name": "stdout",
     "output_type": "stream",
     "text": [
      "spam[-1]\n"
     ]
    }
   ],
   "source": [
    "spam = ['a', 'b', 'c', 'd']\n",
    "print(\"spam[-1]\")"
   ]
  },
  {
   "cell_type": "markdown",
   "id": "5125deef-625d-4027-8956-9803e9741429",
   "metadata": {},
   "source": [
    "Q5. What is the value of spam[:2]?"
   ]
  },
  {
   "cell_type": "code",
   "execution_count": 4,
   "id": "2f4d6d6a-d2a2-4a0a-af44-087ea4d6e74e",
   "metadata": {},
   "outputs": [
    {
     "data": {
      "text/plain": [
       "['a', 'b']"
      ]
     },
     "execution_count": 4,
     "metadata": {},
     "output_type": "execute_result"
    }
   ],
   "source": [
    "spam = ['a', 'b', 'c', 'd']\n",
    "spam[:2]"
   ]
  },
  {
   "cell_type": "markdown",
   "id": "042b2a94-bfae-4047-a323-10e709942623",
   "metadata": {},
   "source": [
    "Let's pretend bacon has the list [3.14, 'cat,' 11, 'cat,' True] for the next three questions."
   ]
  },
  {
   "cell_type": "markdown",
   "id": "131ba65a-65e9-4e59-b8d1-1e4e4b6ef98b",
   "metadata": {},
   "source": [
    "Q6. What is the value of bacon.index('cat')?"
   ]
  },
  {
   "cell_type": "code",
   "execution_count": 5,
   "id": "d1faa02d-89ae-42e4-bdc4-43a0c2f7acf6",
   "metadata": {},
   "outputs": [
    {
     "name": "stdout",
     "output_type": "stream",
     "text": [
      "[3.14, 'cat', 11, 'cat', True]\n",
      "bacon.index('cat')= 1\n"
     ]
    }
   ],
   "source": [
    "bacon = [3.14, 'cat', 11, 'cat', True]\n",
    "print(bacon)\n",
    "print(\"bacon.index('cat')=\",bacon.index('cat'))"
   ]
  },
  {
   "cell_type": "markdown",
   "id": "f097a67f-876c-491b-bac1-b54521342c90",
   "metadata": {},
   "source": [
    "Q7. How does bacon.append(99) change the look of the list value in bacon?"
   ]
  },
  {
   "cell_type": "code",
   "execution_count": 6,
   "id": "cf801493-fa92-4c88-afdd-a0aa6735ec1b",
   "metadata": {},
   "outputs": [
    {
     "name": "stdout",
     "output_type": "stream",
     "text": [
      "[3.14, 'cat', 11, 'cat', True]\n",
      "[3.14, 'cat', 11, 'cat', True, 99]\n"
     ]
    }
   ],
   "source": [
    "bacon = [3.14, 'cat', 11, 'cat', True]\n",
    "print(bacon)\n",
    "bacon.append(99)\n",
    "print(bacon)"
   ]
  },
  {
   "cell_type": "markdown",
   "id": "021d2573-fd52-4c04-a1d9-6895cb646a9a",
   "metadata": {},
   "source": [
    "Q8. How does bacon.remove('cat') change the look of the list in bacon?"
   ]
  },
  {
   "cell_type": "code",
   "execution_count": 7,
   "id": "695a7193-533a-4c65-a332-0d7a6143fc80",
   "metadata": {},
   "outputs": [
    {
     "name": "stdout",
     "output_type": "stream",
     "text": [
      "[3.14, 'cat', 11, 'cat', True]\n",
      "[3.14, 11, 'cat', True]\n"
     ]
    }
   ],
   "source": [
    "bacon = [3.14, 'cat', 11, 'cat', True]\n",
    "print(bacon)\n",
    "bacon.remove('cat')\n",
    "print(bacon)"
   ]
  },
  {
   "cell_type": "markdown",
   "id": "a9af4551-a113-449e-a4c1-25d3eb20a300",
   "metadata": {},
   "source": [
    "Q9. What are the list concatenation and list replication operators?"
   ]
  },
  {
   "cell_type": "raw",
   "id": "7efe5045-bbca-44fc-ab7f-02aad8d144f6",
   "metadata": {},
   "source": [
    "Ans :- The operator for list concatenation is +, while the operator for replication is *"
   ]
  },
  {
   "cell_type": "code",
   "execution_count": 8,
   "id": "b0b8b88f-bd73-4b28-8d1f-c56b9dff858e",
   "metadata": {},
   "outputs": [
    {
     "name": "stdout",
     "output_type": "stream",
     "text": [
      "list concatenation :- [1, 2, 3, 4, 5, 6, 7, 8, 9, 10]\n",
      "list replication :- [6, 7, 8, 9, 10, 6, 7, 8, 9, 10]\n"
     ]
    }
   ],
   "source": [
    "# Example\n",
    "list_1 = [1,2,3,4,5]\n",
    "list_2 = [6,7,8,9,10]\n",
    "print(\"list concatenation :-\",(list_1 + list_2)) \n",
    "print(\"list replication :-\",(list_2*2)) "
   ]
  },
  {
   "cell_type": "markdown",
   "id": "d16e8607-61f3-4487-a301-75104f8ebaf2",
   "metadata": {},
   "source": [
    "Q10. What is difference between the list methods append() and insert()?"
   ]
  },
  {
   "cell_type": "raw",
   "id": "f96d036f-39f4-46e9-a14f-c5c5be409c8d",
   "metadata": {},
   "source": [
    "Ans :- append() adds an item to the end of a list, whereas . insert() inserts any item in a specified position in the list."
   ]
  },
  {
   "cell_type": "code",
   "execution_count": 9,
   "id": "2267a240-eaeb-4ce5-8706-7dff46be8901",
   "metadata": {},
   "outputs": [
    {
     "name": "stdout",
     "output_type": "stream",
     "text": [
      "append:- ['abc', 'def', 'ghi', 'jkl']\n",
      "insert:- ['abc', 'def', 'parinav', 'ghi', 'jkl']\n"
     ]
    }
   ],
   "source": [
    "#Examples\n",
    "list = [\"abc\",\"def\",\"ghi\"]\n",
    "list.append(\"jkl\")\n",
    "print(\"append:-\",list)\n",
    "list.insert(2,\"parinav\")\n",
    "print(\"insert:-\",list)"
   ]
  },
  {
   "cell_type": "markdown",
   "id": "8aa92e54-0799-4ca0-9a83-443ed4e8d0b1",
   "metadata": {},
   "source": [
    "Q11. What are the two methods for removing items from a list?"
   ]
  },
  {
   "cell_type": "raw",
   "id": "4bfa258c-c3b3-4308-915f-60d60bf7609a",
   "metadata": {},
   "source": [
    "Ans :- The del statement and the remove() method are two ways to remove values from a list"
   ]
  },
  {
   "cell_type": "markdown",
   "id": "b89f11e3-1db9-4869-8e08-8248aabd6aa1",
   "metadata": {},
   "source": [
    "12. Describe how list values and string values are identical."
   ]
  },
  {
   "cell_type": "raw",
   "id": "68fa5498-96f8-49d9-8676-3a7f4c3f91a9",
   "metadata": {},
   "source": [
    "Ans :- Both lists and strings can be passed to len() function, have indexes and slices, be used in for loops, be concatenated or replicated, and be used with the in and not in operators."
   ]
  },
  {
   "cell_type": "markdown",
   "id": "52cd801b-4d0e-41d0-bb48-ef17abaaedc1",
   "metadata": {},
   "source": [
    "Q13. What's the difference between tuples and lists?"
   ]
  },
  {
   "cell_type": "raw",
   "id": "a40cb60b-4aca-4563-ad18-5fffaff2cf5f",
   "metadata": {},
   "source": [
    "Ans :- Difference between tuples and lists is that tuples are immutable as opposed to lists which are mutable. Therefore, it is possible to change a list but not a tuple. The contents of a tuple cannot change once they have been created in Python due to the immutability of tuples."
   ]
  },
  {
   "cell_type": "markdown",
   "id": "d70a61b8-beb4-45dc-941d-0cf58c79f517",
   "metadata": {},
   "source": [
    "Q14. How do you type a tuple value that only contains the integer 42?"
   ]
  },
  {
   "cell_type": "code",
   "execution_count": 10,
   "id": "2fcb9eaf-cd0e-4131-be40-ad937ae2cdd3",
   "metadata": {},
   "outputs": [
    {
     "name": "stdout",
     "output_type": "stream",
     "text": [
      "<class 'int'>\n",
      "<class 'tuple'>\n"
     ]
    }
   ],
   "source": [
    "data=(42)\n",
    "data1=(42,)\n",
    "print(type(data))\n",
    "print(type(data1))"
   ]
  },
  {
   "cell_type": "markdown",
   "id": "2aeaa3ff-7de7-4765-a06e-4840463fa23a",
   "metadata": {},
   "source": [
    "Q15. How do you get a list value's tuple form? How do you get a tuple value's list form?"
   ]
  },
  {
   "cell_type": "raw",
   "id": "31ec745b-37e5-4009-8fd9-61b42f8f2579",
   "metadata": {},
   "source": [
    "Ans :- The tuple() and list() functions, respectively are used to convert a list to tuple and vice versa"
   ]
  },
  {
   "cell_type": "code",
   "execution_count": 1,
   "id": "e50c05a6-aacd-45e0-bdac-0c623d1867b5",
   "metadata": {},
   "outputs": [
    {
     "name": "stdout",
     "output_type": "stream",
     "text": [
      "<class 'list'>\n",
      "<class 'tuple'>\n",
      "list converted into tuple :- <class 'tuple'>\n",
      "tuple converted into list :- <class 'list'>\n"
     ]
    }
   ],
   "source": [
    "list1 = [1,2,3,4]\n",
    "print(type(list1))\n",
    "tup = (5,6,7,8)\n",
    "print(type(tup))\n",
    "list1 = tuple([1,2,3,4])\n",
    "print(\"list converted into tuple :-\",type(list1))\n",
    "tup = list((5,6,7,8))\n",
    "print(\"tuple converted into list :-\",type(tup))"
   ]
  },
  {
   "cell_type": "markdown",
   "id": "c016fc0f-39a2-41ed-8948-3041e84fce73",
   "metadata": {},
   "source": [
    "Q16. Variables that \"contain\" list values are not necessarily lists themselves. Instead, what do they contain?"
   ]
  },
  {
   "cell_type": "raw",
   "id": "dd112907-93b7-4684-b334-0db1a77f4345",
   "metadata": {},
   "source": [
    "Ans :- They contain references to list values."
   ]
  },
  {
   "cell_type": "markdown",
   "id": "0bcc05f4-5e85-4a18-a64b-46542f316e85",
   "metadata": {},
   "source": [
    "Q17. How do you distinguish between copy.copy() and copy.deepcopy()?"
   ]
  },
  {
   "cell_type": "raw",
   "id": "5a209d90-b984-47a7-9352-02486da44f60",
   "metadata": {},
   "source": [
    "Ans :- copy() create reference to original object. If you change copied object - you change the original object. . deepcopy() creates new object and does real copying of original object to new one."
   ]
  },
  {
   "cell_type": "code",
   "execution_count": null,
   "id": "85911ed9-2824-43a9-9390-0c5126d3471b",
   "metadata": {},
   "outputs": [],
   "source": []
  }
 ],
 "metadata": {
  "kernelspec": {
   "display_name": "Python 3 (ipykernel)",
   "language": "python",
   "name": "python3"
  },
  "language_info": {
   "codemirror_mode": {
    "name": "ipython",
    "version": 3
   },
   "file_extension": ".py",
   "mimetype": "text/x-python",
   "name": "python",
   "nbconvert_exporter": "python",
   "pygments_lexer": "ipython3",
   "version": "3.9.7"
  }
 },
 "nbformat": 4,
 "nbformat_minor": 5
}
